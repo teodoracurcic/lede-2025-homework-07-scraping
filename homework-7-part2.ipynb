{
 "cells": [
  {
   "cell_type": "markdown",
   "id": "e9a797f0",
   "metadata": {},
   "source": [
    "## Scraping LeMonde\n",
    "\n",
    "**Scrape the content of [LeMonde website](https://www.lemonde.fr/) and save it as a CSV. We want: titles, subhead, article URL, whether it's premium or not, byline, article type, image URL.**\n",
    "\n",
    "*Bonus, if you want to get fancy: Make the CSV file auto-updating.*"
   ]
  },
  {
   "cell_type": "code",
   "execution_count": 6,
   "id": "c6e8ce83",
   "metadata": {},
   "outputs": [],
   "source": [
    "import pandas as pd\n",
    "from bs4 import BeautifulSoup\n",
    "import requests\n",
    "\n",
    "response = requests.get(\"https://www.lemonde.fr/en/\")\n",
    "doc = BeautifulSoup(response.text)"
   ]
  },
  {
   "cell_type": "code",
   "execution_count": 7,
   "id": "6a87aa23",
   "metadata": {},
   "outputs": [
    {
     "name": "stdout",
     "output_type": "stream",
     "text": [
      "53\n"
     ]
    }
   ],
   "source": [
    "articles = doc.find_all(class_ = 'article')\n",
    "print(len(articles))"
   ]
  },
  {
   "cell_type": "code",
   "execution_count": 8,
   "id": "6ff44daa",
   "metadata": {},
   "outputs": [
    {
     "data": {
      "text/plain": [
       "53"
      ]
     },
     "execution_count": 8,
     "metadata": {},
     "output_type": "execute_result"
    }
   ],
   "source": [
    "rows = []\n",
    "\n",
    "for article in articles:\n",
    "    row = {}\n",
    "\n",
    "    row['headline'] = article.find(class_ = 'article__title').text\n",
    "    \n",
    "    try:\n",
    "        row['link'] = article.find('a').get('href')\n",
    "    except:\n",
    "        row['link'] = article.get('href')\n",
    "    \n",
    "    try:\n",
    "        row['premium'] = article.find(class_ = 'sr-only').text\n",
    "    except:\n",
    "        row['premium'] = None\n",
    "    \n",
    "    try:\n",
    "        row['subhead'] = article.find(class_ = 'article__desc').text\n",
    "    except:\n",
    "        row['subhead'] = None\n",
    "\n",
    "    try:\n",
    "        row['byline'] = article.find(class_ = 'article__byline').text\n",
    "    except:\n",
    "        row['byline'] = None\n",
    "\n",
    "    try:\n",
    "        row['article_type'] = article.find(class_ = 'article__type').text\n",
    "    except:\n",
    "        row['article_type'] = None\n",
    "    \n",
    "    img = article.find(\"img\")\n",
    "    if img:\n",
    "        row['image'] = (\n",
    "            img.get(\"data-lazy\")\n",
    "            or img.get(\"data-src\")\n",
    "            or img.get(\"src\")\n",
    "            )\n",
    "    else:\n",
    "        row['image'] = None\n",
    "        \n",
    "\n",
    "    rows.append(row)\n",
    "len(rows)\n"
   ]
  },
  {
   "cell_type": "code",
   "execution_count": 15,
   "id": "c6487fd7",
   "metadata": {},
   "outputs": [
    {
     "data": {
      "text/html": [
       "<div>\n",
       "<style scoped>\n",
       "    .dataframe tbody tr th:only-of-type {\n",
       "        vertical-align: middle;\n",
       "    }\n",
       "\n",
       "    .dataframe tbody tr th {\n",
       "        vertical-align: top;\n",
       "    }\n",
       "\n",
       "    .dataframe thead th {\n",
       "        text-align: right;\n",
       "    }\n",
       "</style>\n",
       "<table border=\"1\" class=\"dataframe\">\n",
       "  <thead>\n",
       "    <tr style=\"text-align: right;\">\n",
       "      <th></th>\n",
       "      <th>headline</th>\n",
       "      <th>link</th>\n",
       "      <th>premium</th>\n",
       "      <th>subhead</th>\n",
       "      <th>byline</th>\n",
       "      <th>article_type</th>\n",
       "      <th>image</th>\n",
       "    </tr>\n",
       "  </thead>\n",
       "  <tbody>\n",
       "    <tr>\n",
       "      <th>0</th>\n",
       "      <td>The Islamic Republic of Iran, Netanyahu's favo...</td>\n",
       "      <td>https://www.lemonde.fr/en/international/articl...</td>\n",
       "      <td>Subscribers only</td>\n",
       "      <td>None</td>\n",
       "      <td>None</td>\n",
       "      <td>None</td>\n",
       "      <td>https://img.lemde.fr/2025/06/13/0/0/3637/2424/...</td>\n",
       "    </tr>\n",
       "    <tr>\n",
       "      <th>1</th>\n",
       "      <td>Israel launches massive lightning attack on Iran</td>\n",
       "      <td>https://www.lemonde.fr/en/international/articl...</td>\n",
       "      <td>Subscribers only</td>\n",
       "      <td>None</td>\n",
       "      <td>None</td>\n",
       "      <td>None</td>\n",
       "      <td>https://img.lemde.fr/2025/06/13/0/0/8640/5760/...</td>\n",
       "    </tr>\n",
       "    <tr>\n",
       "      <th>2</th>\n",
       "      <td>As Israel strikes Iran, US pointedly steps bac...</td>\n",
       "      <td>https://www.lemonde.fr/en/international/articl...</td>\n",
       "      <td>Subscribers only</td>\n",
       "      <td>None</td>\n",
       "      <td>None</td>\n",
       "      <td>None</td>\n",
       "      <td>https://img.lemde.fr/2025/06/13/142/0/2700/180...</td>\n",
       "    </tr>\n",
       "    <tr>\n",
       "      <th>3</th>\n",
       "      <td>Federal judge rules Trump's deployment of Nati...</td>\n",
       "      <td>https://www.lemonde.fr/en/international/articl...</td>\n",
       "      <td>Subscribers only</td>\n",
       "      <td>None</td>\n",
       "      <td>None</td>\n",
       "      <td>None</td>\n",
       "      <td>https://img.lemde.fr/2025/06/13/0/0/8256/5504/...</td>\n",
       "    </tr>\n",
       "    <tr>\n",
       "      <th>4</th>\n",
       "      <td>Criticism is mounting in the Netherlands again...</td>\n",
       "      <td>https://www.lemonde.fr/en/international/articl...</td>\n",
       "      <td>Subscribers only</td>\n",
       "      <td>None</td>\n",
       "      <td>None</td>\n",
       "      <td>None</td>\n",
       "      <td>https://img.lemde.fr/2025/06/03/0/0/5899/3933/...</td>\n",
       "    </tr>\n",
       "  </tbody>\n",
       "</table>\n",
       "</div>"
      ],
      "text/plain": [
       "                                            headline  \\\n",
       "0  The Islamic Republic of Iran, Netanyahu's favo...   \n",
       "1   Israel launches massive lightning attack on Iran   \n",
       "2  As Israel strikes Iran, US pointedly steps bac...   \n",
       "3  Federal judge rules Trump's deployment of Nati...   \n",
       "4  Criticism is mounting in the Netherlands again...   \n",
       "\n",
       "                                                link           premium  \\\n",
       "0  https://www.lemonde.fr/en/international/articl...  Subscribers only   \n",
       "1  https://www.lemonde.fr/en/international/articl...  Subscribers only   \n",
       "2  https://www.lemonde.fr/en/international/articl...  Subscribers only   \n",
       "3  https://www.lemonde.fr/en/international/articl...  Subscribers only   \n",
       "4  https://www.lemonde.fr/en/international/articl...  Subscribers only   \n",
       "\n",
       "  subhead byline article_type  \\\n",
       "0    None   None         None   \n",
       "1    None   None         None   \n",
       "2    None   None         None   \n",
       "3    None   None         None   \n",
       "4    None   None         None   \n",
       "\n",
       "                                               image  \n",
       "0  https://img.lemde.fr/2025/06/13/0/0/3637/2424/...  \n",
       "1  https://img.lemde.fr/2025/06/13/0/0/8640/5760/...  \n",
       "2  https://img.lemde.fr/2025/06/13/142/0/2700/180...  \n",
       "3  https://img.lemde.fr/2025/06/13/0/0/8256/5504/...  \n",
       "4  https://img.lemde.fr/2025/06/03/0/0/5899/3933/...  "
      ]
     },
     "execution_count": 15,
     "metadata": {},
     "output_type": "execute_result"
    }
   ],
   "source": [
    "df = pd.DataFrame(rows)\n",
    "df.head()"
   ]
  },
  {
   "cell_type": "code",
   "execution_count": 13,
   "id": "1c148563",
   "metadata": {},
   "outputs": [],
   "source": [
    "df.to_csv('le_monde.csv', index=False)"
   ]
  }
 ],
 "metadata": {
  "kernelspec": {
   "display_name": "Python 3",
   "language": "python",
   "name": "python3"
  },
  "language_info": {
   "codemirror_mode": {
    "name": "ipython",
    "version": 3
   },
   "file_extension": ".py",
   "mimetype": "text/x-python",
   "name": "python",
   "nbconvert_exporter": "python",
   "pygments_lexer": "ipython3",
   "version": "3.11.8"
  }
 },
 "nbformat": 4,
 "nbformat_minor": 5
}
